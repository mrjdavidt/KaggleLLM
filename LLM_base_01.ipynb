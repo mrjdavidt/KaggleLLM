{
  "nbformat": 4,
  "nbformat_minor": 0,
  "metadata": {
    "colab": {
      "provenance": [],
      "toc_visible": true,
      "authorship_tag": "ABX9TyMDngdBjCbVo5X0TPl2VGyE",
      "include_colab_link": true
    },
    "kernelspec": {
      "name": "python3",
      "display_name": "Python 3"
    },
    "language_info": {
      "name": "python"
    }
  },
  "cells": [
    {
      "cell_type": "markdown",
      "metadata": {
        "id": "view-in-github",
        "colab_type": "text"
      },
      "source": [
        "<a href=\"https://colab.research.google.com/github/mrjdavidt/KaggleLLM/blob/main/LLM_base_01.ipynb\" target=\"_parent\"><img src=\"https://colab.research.google.com/assets/colab-badge.svg\" alt=\"Open In Colab\"/></a>"
      ]
    },
    {
      "cell_type": "markdown",
      "source": [
        "<<Hello, this is the \"base\" if you will. Nothing to fancy just some notes for now>>\n",
        "<<To start things off, let's make this website https://keras.io/keras_hub/getting_started/ our point of reference>>\n",
        "<<It's a link to a Keras \"getting started\" section. We will be using the Intermediate tutorial for>>\n",
        "<<a large language model (LLM). From there we will fine tune our code.>>\n"
      ],
      "metadata": {
        "id": "aEbbKSSDbOin"
      }
    },
    {
      "cell_type": "markdown",
      "source": [
        "# New Section"
      ],
      "metadata": {
        "id": "GGHyvtUOaN8u"
      }
    },
    {
      "cell_type": "markdown",
      "source": [
        "Just remebered I could just add text. It's been aehilr got me, give a guy a break."
      ],
      "metadata": {
        "id": "K-BpXs6VaQZW"
      }
    }
  ]
}